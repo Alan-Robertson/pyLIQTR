{
 "cells": [
  {
   "cell_type": "code",
   "execution_count": 1,
   "metadata": {},
   "outputs": [],
   "source": [
    "from pyLIQTR.ProblemInstances.getInstance   import *\n",
    "from pyLIQTR.BlockEncodings.getEncoding     import *\n",
    "from pyLIQTR.utils.circuit_decomposition    import circuit_decompose_multi\n",
    "from pyLIQTR.utils.resource_analysis        import estimate_resources\n",
    "from pyLIQTR.qubitization.qubitized_gates   import QubitizedWalkOperator\n",
    "from pyLIQTR.clam.lattice_definitions       import CubicLattice, SquareLattice, TriangularLattice\n",
    "from pyLIQTR.utils.printing                 import openqasm\n",
    "from pyLIQTR.scheduler.scheduler            import schedule_circuit\n",
    "\n",
    "import cirq\n",
    "import qualtran as qt\n",
    "import matplotlib.pyplot as plt\n"
   ]
  },
  {
   "cell_type": "markdown",
   "metadata": {},
   "source": [
    "### Building circuit for scheduling"
   ]
  },
  {
   "cell_type": "code",
   "execution_count": 2,
   "metadata": {},
   "outputs": [],
   "source": [
    "N=3\n",
    "\n",
    "J_x = J_y = -0.5;                J_z = -1.0\n",
    "h_x = 1.0;      h_y = 0.0;       h_z = 0.5\n",
    "\n",
    "model  =  getInstance( \"Heisenberg\", \n",
    "                       shape=(N,N), \n",
    "                       J=(J_x,J_y,J_z), \n",
    "                       h=(h_x,h_y,h_z), \n",
    "                       cell=SquareLattice )\n",
    "\n",
    "block_encoding    =  getEncoding(VALID_ENCODINGS.PauliLCU)(model)\n",
    "circuit = block_encoding.circuit"
   ]
  },
  {
   "cell_type": "code",
   "execution_count": 3,
   "metadata": {},
   "outputs": [
    {
     "name": "stderr",
     "output_type": "stream",
     "text": [
      "c:\\Users\\RY32524\\AppData\\Local\\anaconda3\\envs\\schedule\\Lib\\site-packages\\cotengra\\hyperoptimizers\\hyper.py:33: UserWarning: Couldn't import `kahypar` - skipping from default hyper optimizer and using basic `labels` method instead.\n",
      "  warnings.warn(\n"
     ]
    },
    {
     "data": {
      "text/plain": [
       "{'LogicalQubits': 15, 'T': 248, 'Clifford': 1194, 'Rotations': 128}"
      ]
     },
     "execution_count": 3,
     "metadata": {},
     "output_type": "execute_result"
    }
   ],
   "source": [
    "estimate_resources(circuit, circuit_precision=1e-3, profile=True)"
   ]
  },
  {
   "cell_type": "markdown",
   "metadata": {},
   "source": [
    "---\n",
    "#### LIQTR Like 👍 : Circuit Scheduling\n",
    "---\n",
    "\n",
    "Circuits can be 'scheduled' using the `pyLIQTR.scheduler.scheduler.schedule_circuit` function. This will provide circuit runtime, realistic qubit counts, T-depth, and more!\n",
    "\n",
    "(NOTE: If any operator's decomposition method returns `None` or `NotImplemented`, the scheduler will refer to the operator's `t_complexity` method for gate counts and execution time, but will not be able to fully parallelize the operator. If the operator does not have a decomposition method or a `t_complexity` method defined, the operator will be skipped each time it occurs in the circuit. In this event, scheduling results will not be accurate to the true circuit.)\n",
    "\n",
    "`schedule_circuit` takes a number of optional arguments depending on desired outputs. They are:\n",
    "* `architecture_config`: default `None`. A dictionary specifying timing for various gate types and restrictions on how many T gates can operate simultaneously. See 'Setting Gate Times and T-Gate Restriction' below for more info.\n",
    "\n",
    "* `full_profile`: default `False`. If set to `True`, function output will include individual gate counts, T-widths, and parallelism distribution data. (NOTE: T-widths and parallelism data will only be available if `decomp_level` is set to `'Full'`.)\n",
    "\n",
    "* `decomp_level`: default `0`. Levels of decomposition implemented before scheduling. If set to `0`, each operator will be decomposed to one/two-qubit gates only on its first occurance and cached for each future occurance. If set to `'Full'`, entire circuit will be decomposed to one/two-qubit gates before scheduling. \n",
    "\n",
    "    * NOTE: T-depth, qubit counts, and execution time will differ at different decomposition levels. In general, lower decomposition levels will trade circuit parallelism and low execution time for less qubit usage, whereas higher levels or full decomposition will maximize parallelism and decrease execution time while using more qubits. \n",
    "\n",
    "* `context`: default `None`. Defines qubit management context. We recommend not changing default settings unless required.\n",
    "\n",
    "* `custom_gateset`: default `None`. A list specifying which gates to include in analysis. See 'Gateset Formatting' below for more info.\n",
    "\n",
    "* `circuit_precision`: default `1e-3`. Desired precision for circuit decomposition, namely breaking rotations into T-Gates."
   ]
  },
  {
   "cell_type": "markdown",
   "metadata": {},
   "source": [
    "If `decomp_level == 'Full'`, the full results profile will include `Active Qubit Distribution` and `T-widths`. The first catologues how many qubits are active at each time-step in the scheduled circuit, while the second catologues the number of T-gates in each time-step. These results can be plotted as below for parallelism analysis:"
   ]
  },
  {
   "cell_type": "code",
   "execution_count": 4,
   "metadata": {},
   "outputs": [
    {
     "name": "stdout",
     "output_type": "stream",
     "text": [
      "Decomposition levels to basic gates: 5.\n",
      "Time to schedule: 0.3059813999570906 s.\n",
      "Total time for execution : 3389\n",
      "Circuit T-depth : 232\n",
      "Number of qubits used : 20\n",
      "Gate profile : {'T': 248, 'H': 186, 'S': 104, 'CX': 614, 'CZ': 86, 'Pauli (X, Y, Z)': 354, 'Rotation': 74}\n",
      "Active qubit distribution : {14: 1, 5: 20, 1: 400, 2: 316, 4: 123, 3: 136, 6: 54, 8: 8, 7: 8}\n",
      "T-widths : {0: 835, 5: 1, 1: 166, 2: 47, 3: 17, 6: 1}\n"
     ]
    }
   ],
   "source": [
    "res = schedule_circuit(circuit, full_profile=True, decomp_level='Full')\n",
    "for r in res:\n",
    "    print(f\"{r} : {res[r]}\")"
   ]
  },
  {
   "cell_type": "code",
   "execution_count": 5,
   "metadata": {},
   "outputs": [
    {
     "data": {
      "image/png": "[encoded data removed]",
      "text/plain": [
       "<Figure size 640x480 with 1 Axes>"
      ]
     },
     "metadata": {},
     "output_type": "display_data"
    }
   ],
   "source": [
    "import matplotlib.pyplot as plt\n",
    "aq = []\n",
    "vals = []\n",
    "for active_qubits in res['Active qubit distribution']:\n",
    "        val = res['Active qubit distribution'][active_qubits]\n",
    "        aq.append(active_qubits)\n",
    "        vals.append(val)\n",
    "\n",
    "\n",
    "fig, ax = plt.subplots()\n",
    "ax.bar(aq, vals)\n",
    "ax.set_ylabel(\"Number of Occurances\")\n",
    "ax.set_xlabel(\"Number of Active Qubits\")\n",
    "ax.set_yscale('log')\n"
   ]
  },
  {
   "cell_type": "code",
   "execution_count": 6,
   "metadata": {},
   "outputs": [
    {
     "data": {
      "image/png": "[encoded data removed]",
      "text/plain": [
       "<Figure size 640x480 with 1 Axes>"
      ]
     },
     "metadata": {},
     "output_type": "display_data"
    }
   ],
   "source": [
    "import matplotlib.pyplot as plt\n",
    "tw = []\n",
    "vals = []\n",
    "for width in res['T-widths']:\n",
    "        val = res['T-widths'][width]\n",
    "        tw.append(width)\n",
    "        vals.append(val)\n",
    "\n",
    "\n",
    "fig, ax = plt.subplots()\n",
    "ax.bar(tw, vals)\n",
    "ax.set_ylabel(\"Number of Occurances\")\n",
    "ax.set_xlabel(\"T-width\")\n",
    "ax.set_yscale('log')"
   ]
  },
  {
   "cell_type": "markdown",
   "metadata": {},
   "source": [
    "If `decomp_level != 'Full'`, these results will not be included (for now). However, a full gate profile will still be returned."
   ]
  },
  {
   "cell_type": "code",
   "execution_count": 7,
   "metadata": {},
   "outputs": [
    {
     "name": "stdout",
     "output_type": "stream",
     "text": [
      "Time to schedule: 0.18878170003881678 s.\n",
      "Total time for execution: 14252\n",
      "Circuit T-depth: 308\n",
      "Number of qubits used: 20\n",
      "Gate profile: {'T': 248, 'H': 186, 'S': 104, 'CX': 666, 'CZ': 86, 'Pauli (X, Y, Z)': 354, 'Rotation': 126}\n"
     ]
    }
   ],
   "source": [
    "res = schedule_circuit(circuit, full_profile=True, decomp_level=0)\n",
    "for r in res:\n",
    "    print(f'{r}: {res[r]}')"
   ]
  },
  {
   "cell_type": "markdown",
   "metadata": {},
   "source": [
    "#### Setting Gate Times and T-Gate Restriction:\n",
    "To specify how long a particular gate takes to operate or how many T-Gates can operate simultaneously, the user can build a configuration dictionary to be passed to the `architecture_config` argument.\n",
    "\n",
    "This dictionary must be formatted as follows:\n",
    "    \n",
    "`{'Execution Times': {('Gate 1',): Time X, ('Gate 2', 'Gate 3'): Time Y}, 'Max T': Z # of simultaneous T-gates allowed}`"
   ]
  },
  {
   "cell_type": "code",
   "execution_count": 8,
   "metadata": {},
   "outputs": [
    {
     "name": "stdout",
     "output_type": "stream",
     "text": [
      "Time to schedule: 0.2548213999834843 s.\n",
      "Total time for execution : 12143\n",
      "Circuit T-depth : 2340\n",
      "Number of qubits used : 20\n",
      "Gate profile : {'T': 248, 'H': 186, 'S': 104, 'CX': 609, 'CZ': 86, 'Pauli (X, Y, Z)': 354, 'Rotation': 68}\n"
     ]
    }
   ],
   "source": [
    "resources = {'Execution Times': {\n",
    "    ('T',): 5,\n",
    "    ('CX',): 10,\n",
    "    ('Rx', 'Ry'): 3}, \n",
    "'Max T': 1}\n",
    "\n",
    "res = schedule_circuit(circuit, architecture_config=resources, full_profile=True, decomp_level=3)\n",
    "for r in res:\n",
    "    print(f\"{r} : {res[r]}\")"
   ]
  },
  {
   "cell_type": "markdown",
   "metadata": {},
   "source": [
    "#### Gateset Formatting:\n",
    "\n",
    "Custom gatesets can be used to decompose to, schedule, and count specific types of gates.\n",
    "\n",
    "These sets MUST be formatted as follows:\n",
    "\n",
    "`['first two characters of gate 1', 'first two characters of gate 2', ... 'Name of gateset']`\n",
    "\n",
    "*Note that the name of the gateset must be the FINAL list entry.\n",
    "\n",
    "Several of these sets can be compiled into a single list `[[], []]` to track multiple types of gatesets.\n",
    "\n",
    "If a given gateset is found to be incomplete (i.e., a gate can be neither further decomposed nor classified into a given gateset), a `TypeError` will be raised and will inform the user which gate caused the error.\n",
    "\n",
    "Alternatively, custom gatesets can be compiled from a list of pre-written sets, found in `pyLIQTR.scheduler.sets`. These sets, which can be directly imported and used, include:\n",
    "* H\n",
    "* S\n",
    "* CX\n",
    "* CZ\n",
    "* Pauli (X, Y, Z)\n",
    "* Clifford (includes all of the above gate types, but will return a total Clifford count)\n",
    "* T\n",
    "* Rotation\n",
    "* Miscellaneous (this set should be included in ALL custom gatesets; it handles measurement and reset gates.)\n",
    "\n",
    "Gates will be counted at the highest level specified OR in the order in which sets are listed. For example, if a user's custom gateset was:\n",
    "\n",
    "* `mySet = [sets.T, sets.CLIFFORD, sets.MISC, ['An', 'And']]`, then `T` and `Clifford` gate counts would only include those gates whose origins were NOT an `And` gate.\n",
    "* `mySet = [sets.CX, sets.CLIFFORD, sets.T, sets.MISC]`, then `Clifford` gate counts would include all types of Clifford gates EXCEPT `CX`, which would be counted separately.\n",
    "\n",
    "Examples of this behavior are included below."
   ]
  },
  {
   "cell_type": "code",
   "execution_count": 9,
   "metadata": {},
   "outputs": [
    {
     "name": "stdout",
     "output_type": "stream",
     "text": [
      "Time to schedule: 18.610585999966133 s.\n",
      "Total time for execution: 13380\n",
      "Circuit T-depth: 122\n",
      "Number of qubits used: 20\n",
      "Gate profile: {'T': 12978, 'Clifford': 590, 'And': 124, 'Miscellaneous': 0}\n"
     ]
    }
   ],
   "source": [
    "import pyLIQTR.scheduler.sets as sets\n",
    "\n",
    "mygateset = [sets.T, sets.CLIFFORD, ['An', 'And'], sets.MISC]\n",
    "res = schedule_circuit(circuit, full_profile=True, decomp_level='Full', custom_gateset=mygateset)\n",
    "for r in res:\n",
    "    print(f'{r}: {res[r]}')"
   ]
  },
  {
   "cell_type": "code",
   "execution_count": 10,
   "metadata": {},
   "outputs": [
    {
     "name": "stdout",
     "output_type": "stream",
     "text": [
      "Time to schedule: 16.01055649999762 s.\n",
      "Total time for execution: 14248\n",
      "Circuit T-depth: 308\n",
      "Number of qubits used: 20\n",
      "Gate profile: {'T': 13226, 'Clifford': 1396, 'Miscellaneous': 124}\n"
     ]
    }
   ],
   "source": [
    "mygateset = [sets.T, sets.CLIFFORD, sets.MISC]\n",
    "res = schedule_circuit(circuit, full_profile=True, decomp_level=0, custom_gateset=mygateset)\n",
    "for r in res:\n",
    "    print(f'{r}: {res[r]}')"
   ]
  },
  {
   "cell_type": "code",
   "execution_count": 12,
   "metadata": {},
   "outputs": [
    {
     "name": "stdout",
     "output_type": "stream",
     "text": [
      "Time to schedule: 16.120671099983156 s.\n",
      "Total time for execution: 14248\n",
      "Circuit T-depth: 308\n",
      "Number of qubits used: 20\n",
      "Gate profile: {'CX': 666, 'Clifford': 730, 'T': 13226, 'Miscellaneous': 124}\n"
     ]
    }
   ],
   "source": [
    "mygateset = [sets.CX, sets.CLIFFORD, sets.T, sets.MISC]\n",
    "res = schedule_circuit(circuit, full_profile=True, decomp_level=0, custom_gateset=mygateset)\n",
    "for r in res:\n",
    "    print(f'{r}: {res[r]}')"
   ]
  }
 ],
 "metadata": {
  "kernelspec": {
   "display_name": "Python 3",
   "language": "python",
   "name": "python3"
  },
  "language_info": {
   "codemirror_mode": {
    "name": "ipython",
    "version": 3
   },
   "file_extension": ".py",
   "mimetype": "text/x-python",
   "name": "python",
   "nbconvert_exporter": "python",
   "pygments_lexer": "ipython3",
   "version": "3.11.9"
  }
 },
 "nbformat": 4,
 "nbformat_minor": 2
}
